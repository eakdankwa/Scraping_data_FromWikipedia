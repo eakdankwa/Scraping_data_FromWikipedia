{
 "cells": [
  {
   "cell_type": "code",
   "execution_count": 77,
   "id": "e0b62611-8d24-40a1-bb45-c81a99ca3820",
   "metadata": {},
   "outputs": [],
   "source": [
    "from bs4 import BeautifulSoup\n",
    "import requests"
   ]
  },
  {
   "cell_type": "code",
   "execution_count": 78,
   "id": "d8bab2ec-9ec5-45ea-b826-420e7f762325",
   "metadata": {},
   "outputs": [],
   "source": [
    "url = \"https://en.wikipedia.org/wiki/List_of_cities_in_the_European_Union_by_population_within_city_limits\""
   ]
  },
  {
   "cell_type": "code",
   "execution_count": 79,
   "id": "d4945314-57b0-49c5-b88b-7a496669b714",
   "metadata": {},
   "outputs": [],
   "source": [
    "response = requests.get(url)"
   ]
  },
  {
   "cell_type": "code",
   "execution_count": 80,
   "id": "defcf30d-5395-4d70-9b64-4a6e1053137b",
   "metadata": {},
   "outputs": [
    {
     "name": "stdout",
     "output_type": "stream",
     "text": [
      "200\n"
     ]
    }
   ],
   "source": [
    "print(response.status_code)"
   ]
  },
  {
   "cell_type": "code",
   "execution_count": 81,
   "id": "a6180f09-296e-41f3-a29a-d51ced66fa86",
   "metadata": {},
   "outputs": [],
   "source": [
    "soup = BeautifulSoup(response.text, 'html.parser')"
   ]
  },
  {
   "cell_type": "code",
   "execution_count": 82,
   "id": "029f1cb7-ff6a-466e-b88d-48b85261aa43",
   "metadata": {},
   "outputs": [],
   "source": [
    "# Find table element\n",
    "table = soup.find('table')\n"
   ]
  },
  {
   "cell_type": "code",
   "execution_count": 83,
   "id": "68473b65-e766-467f-bebe-54dcc0bd54f6",
   "metadata": {},
   "outputs": [],
   "source": [
    "#initialize an empty list to store the table data\n",
    "data = []"
   ]
  },
  {
   "cell_type": "code",
   "execution_count": 84,
   "id": "8644854a-bdbf-4b4e-820e-9d14577e2ad7",
   "metadata": {},
   "outputs": [],
   "source": [
    "#Iterate over each row in the table\n",
    "for row in table.find_all('tr'):\n",
    "    cells = [cell.get_text(strip=True) for cell in row.find_all(['th','td'])]\n",
    "    data.append(cells)"
   ]
  },
  {
   "cell_type": "code",
   "execution_count": 85,
   "id": "1ae915e2-5a95-4047-9367-847a064242bb",
   "metadata": {},
   "outputs": [],
   "source": [
    "import numpy as np\n",
    "import pandas as pd\n",
    "import seaborn as sns\n",
    "import matplotlib.pyplot as plt"
   ]
  },
  {
   "cell_type": "code",
   "execution_count": 86,
   "id": "3425c4eb-de0d-4c24-ad2c-1998a61962c9",
   "metadata": {},
   "outputs": [
    {
     "data": {
      "text/plain": [
       "[['City', 'Memberstate', 'Officialpopulation', 'Date', 'Ref'],\n",
       " ['Berlin', 'Germany', '3,755,251', '31 Dec 2022', '[1]'],\n",
       " ['Madrid', 'Spain', '3,332,035', '1 Jan 2023', '[2]'],\n",
       " ['Rome', 'Italy', '2,755,309', '1 Jan 2023', '[3]'],\n",
       " ['Paris', 'France', '2,102,650', '1 Jan 2023', '[4]'],\n",
       " ['Vienna', 'Austria', '2,006,134', '1 Jan 2024', '[5]'],\n",
       " ['Hamburg', 'Germany', '1,892,122', '31 Dec 2022', '[1]'],\n",
       " ['Warsaw', 'Poland', '1,861,644', '30 Jun 2023', '[6]'],\n",
       " ['Bucharest', 'Romania', '1,739,297', '1 Jan 2023', '[7]'],\n",
       " ['Budapest', 'Hungary', '1,671,004', '1 Jan 2023', '[8]'],\n",
       " ['Barcelona', 'Spain', '1,660,122', '1 Jan 2023', '[2]'],\n",
       " ['Munich', 'Germany', '1,512,491', '31 Dec 2022', '[1]'],\n",
       " ['Milan', 'Italy', '1,358,420', '1 Jan 2023', '[3]'],\n",
       " ['Prague', 'Czech Republic', '1,357,326', '1 Jan 2023', '[9]'],\n",
       " ['Sofia', 'Bulgaria', '1,280,334', '31 Dec 2022', '[10]'],\n",
       " ['Cologne', 'Germany', '1,084,831', '31 Dec 2022', '[1]'],\n",
       " ['Stockholm', 'Sweden', '988,943', '31 Dec 2023', '[11]'],\n",
       " ['Amsterdam', 'Netherlands', '935,521', '30 Nov 2023', '[12]'],\n",
       " ['Naples', 'Italy', '917,510', '1 Jan 2023', '[3]'],\n",
       " ['Marseille', 'France', '873,076', '1 Jan 2021', '[13]'],\n",
       " ['Turin', 'Italy', '847,398', '1 Jan 2023', '[3]'],\n",
       " ['Valencia', 'Spain', '807,693', '1 Jan 2023', '[2]'],\n",
       " ['Kraków', 'Poland', '804,237', '30 Jun 2023', '[6]'],\n",
       " ['Frankfurt', 'Germany', '773,068', '31 Dec 2022', '[1]'],\n",
       " ['Zagreb', 'Croatia', '768,624', '31 Dec 2022', '[14]'],\n",
       " ['Seville', 'Spain', '684,025', '1 Jan 2023', '[2]'],\n",
       " ['Zaragoza', 'Spain', '682,513', '1 Jan 2023', '[2]'],\n",
       " ['Helsinki', 'Finland', '675,747', '1 Feb 2024', '[15]'],\n",
       " ['Wrocław', 'Poland', '674,132', '30 Jun 2023', '[6]'],\n",
       " ['Rotterdam', 'Netherlands', '671,221', '30 Nov 2023', '[12]'],\n",
       " ['Copenhagen', 'Denmark', '659,350', '1 Jan 2024', '[16]'],\n",
       " ['Łódź', 'Poland', '655,279', '30 Jun 2023', '[6]'],\n",
       " ['Athens', 'Greece', '643,452', '23 Oct 2021', '[17]'],\n",
       " ['Stuttgart', 'Germany', '632,865', '31 Dec 2022', '[1]'],\n",
       " ['Palermo', 'Italy', '632,499', '1 Jan 2023', '[3]'],\n",
       " ['Düsseldorf', 'Germany', '629,047', '31 Dec 2022', '[1]'],\n",
       " ['Leipzig', 'Germany', '616,093', '31 Dec 2022', '[1]'],\n",
       " ['Riga', 'Latvia', '614,987', '1 Jan 2023', '[18]'],\n",
       " ['Gothenburg', 'Sweden', '604,616', '31 Dec 2023', '[11]'],\n",
       " ['Vilnius', 'Lithuania', '602,430', '1 Jan 2024', '[19]'],\n",
       " ['Dortmund', 'Germany', '593,317', '31 Dec 2022', '[1]'],\n",
       " ['Dublin', 'Ireland', '592,713', '3 Apr 2022', '[20]'],\n",
       " ['Málaga', 'Spain', '586,384', '1 Jan 2023', '[2]'],\n",
       " ['Essen', 'Germany', '584,580', '31 Dec 2022', '[1]'],\n",
       " ['Bremen', 'Germany', '569,396', '31 Dec 2022', '[1]'],\n",
       " ['The Hague', 'Netherlands', '565,817', '30 Nov 2023', '[12]'],\n",
       " ['Dresden', 'Germany', '563,311', '31 Dec 2022', '[1]'],\n",
       " ['Genoa', 'Italy', '561,191', '1 Jan 2023', '[3]'],\n",
       " ['Antwerp', 'Belgium', '548,916', '1 Feb 2024', '[21]'],\n",
       " ['Lisbon', 'Portugal', '548,703', '1 Jan 2022', '[22]'],\n",
       " ['Hanover', 'Germany', '545,045', '31 Dec 2022', '[1]'],\n",
       " ['Poznań', 'Poland', '540,146', '30 Jun 2023', '[6]'],\n",
       " ['Nuremberg', 'Germany', '523,026', '31 Dec 2022', '[1]'],\n",
       " ['Lyon', 'France', '522,250', '1 Jan 2021', '[13]'],\n",
       " ['Toulouse', 'France', '504,078', '1 Jan 2021', '[13]'],\n",
       " ['Duisburg', 'Germany', '502,211', '31 Dec 2022', '[1]'],\n",
       " ['Gdańsk', 'Poland', '486,492', '30 Jun 2023', '[6]'],\n",
       " ['Bratislava', 'Slovakia', '476,979', '1 Oct 2023', '[23]'],\n",
       " ['Murcia', 'Spain', '469,177', '1 Jan 2023', '[2]'],\n",
       " ['Tallinn', 'Estonia', '453,864', '1 Jan 2023', '[24]'],\n",
       " ['Palma de Mallorca', 'Spain', '423,350', '1 Jan 2023', '[2]'],\n",
       " ['Brno', 'Czech Republic', '396,101', '1 Jan 2023', '[9]'],\n",
       " ['Szczecin', 'Poland', '390,278', '30 Jun 2023', '[6]'],\n",
       " ['Bologna', 'Italy', '389,200', '1 Jan 2023', '[3]'],\n",
       " ['Sintra', 'Portugal', '388,767', '1 Jan 2022', '[22]'],\n",
       " ['Las Palmas', 'Spain', '378,027', '1 Jan 2023', '[2]'],\n",
       " ['Utrecht', 'Netherlands', '374,409', '30 Nov 2023', '[12]'],\n",
       " ['Aarhus', 'Denmark', '367,095', '1 Jan 2024', '[16]'],\n",
       " ['Bochum', 'Germany', '365,742', '31 Dec 2022', '[1]'],\n",
       " ['Florence', 'Italy', '362,742', '1 Jan 2023', '[3]'],\n",
       " ['Malmö', 'Sweden', '362,133', '31 Dec 2023', '[11]'],\n",
       " ['Wuppertal', 'Germany', '358,876', '31 Dec 2022', '[1]'],\n",
       " ['Alicante', 'Spain', '349,282', '1 Jan 2023', '[2]'],\n",
       " ['Nice', 'France', '348,085', '1 Jan 2021', '[13]'],\n",
       " ['Bilbao', 'Spain', '346,096', '1 Jan 2023', '[2]'],\n",
       " ['Bielefeld', 'Germany', '338,332', '31 Dec 2022', '[1]'],\n",
       " ['Bonn', 'Germany', '336,465', '31 Dec 2022', '[1]'],\n",
       " ['Lublin', 'Poland', '330,447', '30 Jun 2023', '[6]'],\n",
       " ['Bydgoszcz', 'Poland', '328,370', '30 Jun 2023', '[6]'],\n",
       " ['Córdoba', 'Spain', '323,763', '1 Jan 2023', '[2]'],\n",
       " ['Nantes', 'France', '323,204', '1 Jan 2021', '[13]'],\n",
       " ['Plovdiv', 'Bulgaria', '321,824', '31 Dec 2022', '[10]'],\n",
       " ['Münster', 'Germany', '320,946', '31 Dec 2022', '[1]'],\n",
       " ['Varna', 'Bulgaria', '319,900', '31 Dec 2022', '[10]'],\n",
       " ['Thessaloniki', 'Greece', '319,045', '23 Oct 2021', '[17]'],\n",
       " ['Bari', 'Italy', '316,736', '1 Jan 2023', '[3]'],\n",
       " ['Mannheim', 'Germany', '315,554', '31 Dec 2022', '[1]'],\n",
       " ['Espoo', 'Finland', '314,821', '1 Feb 2024', '[15]'],\n",
       " ['Karlsruhe', 'Germany', '308,707', '31 Dec 2022', '[1]'],\n",
       " ['Vila Nova de Gaia', 'Portugal', '307,563', '1 Jan 2022', '[22]'],\n",
       " ['Kaunas', 'Lithuania', '304,198', '1 Jan 2024', '[19]'],\n",
       " ['Graz', 'Austria', '303,270', '1 Jan 2024', '[25]'],\n",
       " ['Montpellier', 'France', '302,454', '1 Jan 2021', '[13]'],\n",
       " ['Augsburg', 'Germany', '301,033', '31 Dec 2022', '[1]']]"
      ]
     },
     "execution_count": 86,
     "metadata": {},
     "output_type": "execute_result"
    }
   ],
   "source": [
    "data"
   ]
  },
  {
   "cell_type": "code",
   "execution_count": 87,
   "id": "f2384b2c-a894-4e83-8ed4-525b4ae824c7",
   "metadata": {},
   "outputs": [],
   "source": [
    "df = pd.DataFrame(data[1:], columns = data[0])"
   ]
  },
  {
   "cell_type": "code",
   "execution_count": 88,
   "id": "ac8106a9-812e-43d3-9420-2d65ffef8608",
   "metadata": {},
   "outputs": [
    {
     "data": {
      "text/html": [
       "<div>\n",
       "<style scoped>\n",
       "    .dataframe tbody tr th:only-of-type {\n",
       "        vertical-align: middle;\n",
       "    }\n",
       "\n",
       "    .dataframe tbody tr th {\n",
       "        vertical-align: top;\n",
       "    }\n",
       "\n",
       "    .dataframe thead th {\n",
       "        text-align: right;\n",
       "    }\n",
       "</style>\n",
       "<table border=\"1\" class=\"dataframe\">\n",
       "  <thead>\n",
       "    <tr style=\"text-align: right;\">\n",
       "      <th></th>\n",
       "      <th>City</th>\n",
       "      <th>Memberstate</th>\n",
       "      <th>Officialpopulation</th>\n",
       "      <th>Date</th>\n",
       "      <th>Ref</th>\n",
       "    </tr>\n",
       "  </thead>\n",
       "  <tbody>\n",
       "    <tr>\n",
       "      <th>0</th>\n",
       "      <td>Berlin</td>\n",
       "      <td>Germany</td>\n",
       "      <td>3,755,251</td>\n",
       "      <td>31 Dec 2022</td>\n",
       "      <td>[1]</td>\n",
       "    </tr>\n",
       "    <tr>\n",
       "      <th>1</th>\n",
       "      <td>Madrid</td>\n",
       "      <td>Spain</td>\n",
       "      <td>3,332,035</td>\n",
       "      <td>1 Jan 2023</td>\n",
       "      <td>[2]</td>\n",
       "    </tr>\n",
       "    <tr>\n",
       "      <th>2</th>\n",
       "      <td>Rome</td>\n",
       "      <td>Italy</td>\n",
       "      <td>2,755,309</td>\n",
       "      <td>1 Jan 2023</td>\n",
       "      <td>[3]</td>\n",
       "    </tr>\n",
       "    <tr>\n",
       "      <th>3</th>\n",
       "      <td>Paris</td>\n",
       "      <td>France</td>\n",
       "      <td>2,102,650</td>\n",
       "      <td>1 Jan 2023</td>\n",
       "      <td>[4]</td>\n",
       "    </tr>\n",
       "    <tr>\n",
       "      <th>4</th>\n",
       "      <td>Vienna</td>\n",
       "      <td>Austria</td>\n",
       "      <td>2,006,134</td>\n",
       "      <td>1 Jan 2024</td>\n",
       "      <td>[5]</td>\n",
       "    </tr>\n",
       "  </tbody>\n",
       "</table>\n",
       "</div>"
      ],
      "text/plain": [
       "     City Memberstate Officialpopulation         Date  Ref\n",
       "0  Berlin     Germany          3,755,251  31 Dec 2022  [1]\n",
       "1  Madrid       Spain          3,332,035   1 Jan 2023  [2]\n",
       "2    Rome       Italy          2,755,309   1 Jan 2023  [3]\n",
       "3   Paris      France          2,102,650   1 Jan 2023  [4]\n",
       "4  Vienna     Austria          2,006,134   1 Jan 2024  [5]"
      ]
     },
     "execution_count": 88,
     "metadata": {},
     "output_type": "execute_result"
    }
   ],
   "source": [
    "df.head()"
   ]
  },
  {
   "cell_type": "code",
   "execution_count": 89,
   "id": "bf9723bc-f1f8-4abb-8613-34605affbd57",
   "metadata": {},
   "outputs": [],
   "source": [
    "#sns.barplot(x='Country', y='Officialpopulation', data = df)\n",
    "#plt.show()"
   ]
  },
  {
   "cell_type": "code",
   "execution_count": 95,
   "id": "1c70484c-1056-4128-84a9-7aa53e1c1585",
   "metadata": {},
   "outputs": [
    {
     "data": {
      "text/plain": [
       "(93, 5)"
      ]
     },
     "execution_count": 95,
     "metadata": {},
     "output_type": "execute_result"
    }
   ],
   "source": [
    "df.shape"
   ]
  },
  {
   "cell_type": "code",
   "execution_count": 101,
   "id": "ab095ada-afd8-498b-910b-35a0f017ed87",
   "metadata": {},
   "outputs": [
    {
     "name": "stdout",
     "output_type": "stream",
     "text": [
      "<class 'pandas.core.frame.DataFrame'>\n",
      "RangeIndex: 93 entries, 0 to 92\n",
      "Data columns (total 5 columns):\n",
      " #   Column              Non-Null Count  Dtype \n",
      "---  ------              --------------  ----- \n",
      " 0   City                93 non-null     object\n",
      " 1   Memberstate         93 non-null     object\n",
      " 2   Officialpopulation  93 non-null     object\n",
      " 3   Date                93 non-null     object\n",
      " 4   Ref                 93 non-null     object\n",
      "dtypes: object(5)\n",
      "memory usage: 3.8+ KB\n"
     ]
    }
   ],
   "source": [
    "df.info()"
   ]
  },
  {
   "cell_type": "code",
   "execution_count": null,
   "id": "bcb864a8-a3a4-4da8-aa58-1c44be5897a1",
   "metadata": {},
   "outputs": [],
   "source": []
  },
  {
   "cell_type": "code",
   "execution_count": null,
   "id": "28d3b4c0-0d3c-4097-a36e-3945c417f4b6",
   "metadata": {},
   "outputs": [],
   "source": []
  },
  {
   "cell_type": "code",
   "execution_count": null,
   "id": "c2a4bebb-23dc-4246-9898-3b19756d9f5b",
   "metadata": {},
   "outputs": [],
   "source": []
  }
 ],
 "metadata": {
  "kernelspec": {
   "display_name": "Python 3 (ipykernel)",
   "language": "python",
   "name": "python3"
  },
  "language_info": {
   "codemirror_mode": {
    "name": "ipython",
    "version": 3
   },
   "file_extension": ".py",
   "mimetype": "text/x-python",
   "name": "python",
   "nbconvert_exporter": "python",
   "pygments_lexer": "ipython3",
   "version": "3.11.7"
  }
 },
 "nbformat": 4,
 "nbformat_minor": 5
}
